{
 "cells": [
  {
   "cell_type": "code",
   "execution_count": 7,
   "metadata": {},
   "outputs": [],
   "source": [
    "from lxml import objectify\n",
    "from pathlib import Path\n",
    "import pandas as pd\n",
    "\n"
   ]
  },
  {
   "cell_type": "code",
   "execution_count": 21,
   "metadata": {},
   "outputs": [],
   "source": [
    "def xmlTOcsv(file_path):\n",
    "  \n",
    "  xml = objectify.parse(open(file_path))\n",
    "  root = xml.getroot()\n",
    "\n",
    "  filename = \"asses.csv\"\n",
    "  file = open(filename, \"w\")\n",
    "\n",
    "  headers = \"FinInstrmGnlAttrbts.Id, FinInstrmGnlAttrbts.FullNm,FinInstrmGnlAttrbts.ClssfctnTp,FinInstrmGnlAttrbts.CmmdtyDerivInd,FinInstrmGnlAttrbts.NtnlCcy,Issr \\n\"\n",
    "  file.write(headers)\n",
    "\n",
    "  a = \"FinInstrmGnlAttrbts.Id\"\n",
    "  b = \"FinInstrmGnlAttrbts.FullNm\"\n",
    "  c = \"FinInstrmGnlAttrbts.ClssfctnTp\"\n",
    "  d = \"FinInstrmGnlAttrbts.CmmdtyDerivInd\"\n",
    "  e = \"FinInstrmGnlAttrbts.NtnlCcy\" \n",
    "  f = \"Issr\"\n",
    "\n",
    "\n",
    "  for x in root.getchildren()[1].getchildren():\n",
    "         info = x.getchildren()\n",
    "         a = info[3].text\n",
    "         b = info[6].text\n",
    "         c = info[9].text\n",
    "         d = info[1].text\n",
    "         e = info[2].text\n",
    "         f = info[7].text\n",
    "\n",
    "         print(a + \",\" + b + \",\" + c + \",\" + d + \",\" + e + \",\" + f + \"\\n\")\n",
    "         file.write(a + \",\" + b + \",\" + c + \",\" + d + \",\" + e + \",\" + f + \"\\n\")\n",
    "\n",
    "  file.close()\n",
    "  \n",
    "  return ;\n"
   ]
  },
  {
   "cell_type": "code",
   "execution_count": 22,
   "metadata": {},
   "outputs": [
    {
     "name": "stdout",
     "output_type": "stream",
     "text": [
      "46015,DLTINS_20210117_01of01.zip,2023-04-21T03:55:49.555Z,http://firds.esma.europa.eu/firds/DLTINS_20210117_01of01.zip,2021-01-17T00:00:00Z,DLTINS\n",
      "\n",
      "46051,DLTINS_20210119_01of02.zip,2023-04-21T03:55:49.575Z,http://firds.esma.europa.eu/firds/DLTINS_20210119_01of02.zip,2021-01-19T00:00:00Z,DLTINS\n",
      "\n",
      "46052,DLTINS_20210119_02of02.zip,2023-04-21T03:55:49.575Z,http://firds.esma.europa.eu/firds/DLTINS_20210119_02of02.zip,2021-01-19T00:00:00Z,DLTINS\n",
      "\n",
      "46032,DLTINS_20210118_01of01.zip,2023-04-21T03:55:49.590Z,http://firds.esma.europa.eu/firds/DLTINS_20210118_01of01.zip,2021-01-18T00:00:00Z,DLTINS\n",
      "\n"
     ]
    }
   ],
   "source": [
    "file_path = 'E:\\DataScience_projects\\steeleyeAsses\\XML_file\\\\asses.xml'\n",
    "xmlTOcsv(file_path)"
   ]
  },
  {
   "cell_type": "code",
   "execution_count": null,
   "metadata": {},
   "outputs": [],
   "source": []
  }
 ],
 "metadata": {
  "kernelspec": {
   "display_name": "Python 3",
   "language": "python",
   "name": "python3"
  },
  "language_info": {
   "codemirror_mode": {
    "name": "ipython",
    "version": 3
   },
   "file_extension": ".py",
   "mimetype": "text/x-python",
   "name": "python",
   "nbconvert_exporter": "python",
   "pygments_lexer": "ipython3",
   "version": "3.9.13"
  },
  "orig_nbformat": 4
 },
 "nbformat": 4,
 "nbformat_minor": 2
}
